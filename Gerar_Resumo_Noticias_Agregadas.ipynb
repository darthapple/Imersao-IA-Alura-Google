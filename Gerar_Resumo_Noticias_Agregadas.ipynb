{
  "nbformat": 4,
  "nbformat_minor": 0,
  "metadata": {
    "colab": {
      "provenance": [],
      "authorship_tag": "ABX9TyMLt4RkwQc9BJWaeMpzdjOr",
      "include_colab_link": true
    },
    "kernelspec": {
      "name": "python3",
      "display_name": "Python 3"
    },
    "language_info": {
      "name": "python"
    },
    "widgets": {
      "application/vnd.jupyter.widget-state+json": {
        "fddde9a0e52c40e0a6699af9410aad38": {
          "model_module": "@jupyter-widgets/controls",
          "model_name": "HBoxModel",
          "model_module_version": "1.5.0",
          "state": {
            "_dom_classes": [],
            "_model_module": "@jupyter-widgets/controls",
            "_model_module_version": "1.5.0",
            "_model_name": "HBoxModel",
            "_view_count": null,
            "_view_module": "@jupyter-widgets/controls",
            "_view_module_version": "1.5.0",
            "_view_name": "HBoxView",
            "box_style": "",
            "children": [
              "IPY_MODEL_a6b89137a83d4656959c0eeeb44f1d11",
              "IPY_MODEL_9d365032721f4af49b29dd936221e6a6",
              "IPY_MODEL_3f392d5bd7e1414a8c7ede200bdac3f1"
            ],
            "layout": "IPY_MODEL_322bac08b32941849ffee23218cbdd97"
          }
        },
        "a6b89137a83d4656959c0eeeb44f1d11": {
          "model_module": "@jupyter-widgets/controls",
          "model_name": "HTMLModel",
          "model_module_version": "1.5.0",
          "state": {
            "_dom_classes": [],
            "_model_module": "@jupyter-widgets/controls",
            "_model_module_version": "1.5.0",
            "_model_name": "HTMLModel",
            "_view_count": null,
            "_view_module": "@jupyter-widgets/controls",
            "_view_module_version": "1.5.0",
            "_view_name": "HTMLView",
            "description": "",
            "description_tooltip": null,
            "layout": "IPY_MODEL_b62eda7d8cec4d86a88fb7074e8f264a",
            "placeholder": "​",
            "style": "IPY_MODEL_e732127fb2bf4f88b786eead86d46f6e",
            "value": "Gerando Resumos: 100%"
          }
        },
        "9d365032721f4af49b29dd936221e6a6": {
          "model_module": "@jupyter-widgets/controls",
          "model_name": "FloatProgressModel",
          "model_module_version": "1.5.0",
          "state": {
            "_dom_classes": [],
            "_model_module": "@jupyter-widgets/controls",
            "_model_module_version": "1.5.0",
            "_model_name": "FloatProgressModel",
            "_view_count": null,
            "_view_module": "@jupyter-widgets/controls",
            "_view_module_version": "1.5.0",
            "_view_name": "ProgressView",
            "bar_style": "success",
            "description": "",
            "description_tooltip": null,
            "layout": "IPY_MODEL_b39a982b9e114e34ba1517d3b89a23b4",
            "max": 37,
            "min": 0,
            "orientation": "horizontal",
            "style": "IPY_MODEL_5eacf075af1949389f277e5ad01d7416",
            "value": 37
          }
        },
        "3f392d5bd7e1414a8c7ede200bdac3f1": {
          "model_module": "@jupyter-widgets/controls",
          "model_name": "HTMLModel",
          "model_module_version": "1.5.0",
          "state": {
            "_dom_classes": [],
            "_model_module": "@jupyter-widgets/controls",
            "_model_module_version": "1.5.0",
            "_model_name": "HTMLModel",
            "_view_count": null,
            "_view_module": "@jupyter-widgets/controls",
            "_view_module_version": "1.5.0",
            "_view_name": "HTMLView",
            "description": "",
            "description_tooltip": null,
            "layout": "IPY_MODEL_8c91f26a4bfe4aa2bfae0c5feba4876c",
            "placeholder": "​",
            "style": "IPY_MODEL_3651d761abfb4861b623302bc1c97b6d",
            "value": " 37/37 [17:24&lt;00:00, 20.30s/it]"
          }
        },
        "322bac08b32941849ffee23218cbdd97": {
          "model_module": "@jupyter-widgets/base",
          "model_name": "LayoutModel",
          "model_module_version": "1.2.0",
          "state": {
            "_model_module": "@jupyter-widgets/base",
            "_model_module_version": "1.2.0",
            "_model_name": "LayoutModel",
            "_view_count": null,
            "_view_module": "@jupyter-widgets/base",
            "_view_module_version": "1.2.0",
            "_view_name": "LayoutView",
            "align_content": null,
            "align_items": null,
            "align_self": null,
            "border": null,
            "bottom": null,
            "display": null,
            "flex": null,
            "flex_flow": null,
            "grid_area": null,
            "grid_auto_columns": null,
            "grid_auto_flow": null,
            "grid_auto_rows": null,
            "grid_column": null,
            "grid_gap": null,
            "grid_row": null,
            "grid_template_areas": null,
            "grid_template_columns": null,
            "grid_template_rows": null,
            "height": null,
            "justify_content": null,
            "justify_items": null,
            "left": null,
            "margin": null,
            "max_height": null,
            "max_width": null,
            "min_height": null,
            "min_width": null,
            "object_fit": null,
            "object_position": null,
            "order": null,
            "overflow": null,
            "overflow_x": null,
            "overflow_y": null,
            "padding": null,
            "right": null,
            "top": null,
            "visibility": null,
            "width": null
          }
        },
        "b62eda7d8cec4d86a88fb7074e8f264a": {
          "model_module": "@jupyter-widgets/base",
          "model_name": "LayoutModel",
          "model_module_version": "1.2.0",
          "state": {
            "_model_module": "@jupyter-widgets/base",
            "_model_module_version": "1.2.0",
            "_model_name": "LayoutModel",
            "_view_count": null,
            "_view_module": "@jupyter-widgets/base",
            "_view_module_version": "1.2.0",
            "_view_name": "LayoutView",
            "align_content": null,
            "align_items": null,
            "align_self": null,
            "border": null,
            "bottom": null,
            "display": null,
            "flex": null,
            "flex_flow": null,
            "grid_area": null,
            "grid_auto_columns": null,
            "grid_auto_flow": null,
            "grid_auto_rows": null,
            "grid_column": null,
            "grid_gap": null,
            "grid_row": null,
            "grid_template_areas": null,
            "grid_template_columns": null,
            "grid_template_rows": null,
            "height": null,
            "justify_content": null,
            "justify_items": null,
            "left": null,
            "margin": null,
            "max_height": null,
            "max_width": null,
            "min_height": null,
            "min_width": null,
            "object_fit": null,
            "object_position": null,
            "order": null,
            "overflow": null,
            "overflow_x": null,
            "overflow_y": null,
            "padding": null,
            "right": null,
            "top": null,
            "visibility": null,
            "width": null
          }
        },
        "e732127fb2bf4f88b786eead86d46f6e": {
          "model_module": "@jupyter-widgets/controls",
          "model_name": "DescriptionStyleModel",
          "model_module_version": "1.5.0",
          "state": {
            "_model_module": "@jupyter-widgets/controls",
            "_model_module_version": "1.5.0",
            "_model_name": "DescriptionStyleModel",
            "_view_count": null,
            "_view_module": "@jupyter-widgets/base",
            "_view_module_version": "1.2.0",
            "_view_name": "StyleView",
            "description_width": ""
          }
        },
        "b39a982b9e114e34ba1517d3b89a23b4": {
          "model_module": "@jupyter-widgets/base",
          "model_name": "LayoutModel",
          "model_module_version": "1.2.0",
          "state": {
            "_model_module": "@jupyter-widgets/base",
            "_model_module_version": "1.2.0",
            "_model_name": "LayoutModel",
            "_view_count": null,
            "_view_module": "@jupyter-widgets/base",
            "_view_module_version": "1.2.0",
            "_view_name": "LayoutView",
            "align_content": null,
            "align_items": null,
            "align_self": null,
            "border": null,
            "bottom": null,
            "display": null,
            "flex": null,
            "flex_flow": null,
            "grid_area": null,
            "grid_auto_columns": null,
            "grid_auto_flow": null,
            "grid_auto_rows": null,
            "grid_column": null,
            "grid_gap": null,
            "grid_row": null,
            "grid_template_areas": null,
            "grid_template_columns": null,
            "grid_template_rows": null,
            "height": null,
            "justify_content": null,
            "justify_items": null,
            "left": null,
            "margin": null,
            "max_height": null,
            "max_width": null,
            "min_height": null,
            "min_width": null,
            "object_fit": null,
            "object_position": null,
            "order": null,
            "overflow": null,
            "overflow_x": null,
            "overflow_y": null,
            "padding": null,
            "right": null,
            "top": null,
            "visibility": null,
            "width": null
          }
        },
        "5eacf075af1949389f277e5ad01d7416": {
          "model_module": "@jupyter-widgets/controls",
          "model_name": "ProgressStyleModel",
          "model_module_version": "1.5.0",
          "state": {
            "_model_module": "@jupyter-widgets/controls",
            "_model_module_version": "1.5.0",
            "_model_name": "ProgressStyleModel",
            "_view_count": null,
            "_view_module": "@jupyter-widgets/base",
            "_view_module_version": "1.2.0",
            "_view_name": "StyleView",
            "bar_color": null,
            "description_width": ""
          }
        },
        "8c91f26a4bfe4aa2bfae0c5feba4876c": {
          "model_module": "@jupyter-widgets/base",
          "model_name": "LayoutModel",
          "model_module_version": "1.2.0",
          "state": {
            "_model_module": "@jupyter-widgets/base",
            "_model_module_version": "1.2.0",
            "_model_name": "LayoutModel",
            "_view_count": null,
            "_view_module": "@jupyter-widgets/base",
            "_view_module_version": "1.2.0",
            "_view_name": "LayoutView",
            "align_content": null,
            "align_items": null,
            "align_self": null,
            "border": null,
            "bottom": null,
            "display": null,
            "flex": null,
            "flex_flow": null,
            "grid_area": null,
            "grid_auto_columns": null,
            "grid_auto_flow": null,
            "grid_auto_rows": null,
            "grid_column": null,
            "grid_gap": null,
            "grid_row": null,
            "grid_template_areas": null,
            "grid_template_columns": null,
            "grid_template_rows": null,
            "height": null,
            "justify_content": null,
            "justify_items": null,
            "left": null,
            "margin": null,
            "max_height": null,
            "max_width": null,
            "min_height": null,
            "min_width": null,
            "object_fit": null,
            "object_position": null,
            "order": null,
            "overflow": null,
            "overflow_x": null,
            "overflow_y": null,
            "padding": null,
            "right": null,
            "top": null,
            "visibility": null,
            "width": null
          }
        },
        "3651d761abfb4861b623302bc1c97b6d": {
          "model_module": "@jupyter-widgets/controls",
          "model_name": "DescriptionStyleModel",
          "model_module_version": "1.5.0",
          "state": {
            "_model_module": "@jupyter-widgets/controls",
            "_model_module_version": "1.5.0",
            "_model_name": "DescriptionStyleModel",
            "_view_count": null,
            "_view_module": "@jupyter-widgets/base",
            "_view_module_version": "1.2.0",
            "_view_name": "StyleView",
            "description_width": ""
          }
        }
      }
    }
  },
  "cells": [
    {
      "cell_type": "markdown",
      "metadata": {
        "id": "view-in-github",
        "colab_type": "text"
      },
      "source": [
        "<a href=\"https://colab.research.google.com/github/darthapple/Imersao-IA-Alura-Google/blob/main/Gerar_Resumo_Noticias_Agregadas.ipynb\" target=\"_parent\"><img src=\"https://colab.research.google.com/assets/colab-badge.svg\" alt=\"Open In Colab\"/></a>"
      ]
    },
    {
      "cell_type": "markdown",
      "source": [
        "# Gerador de Resumo de Notícias\n",
        "\n",
        "Projeto feito para a Imersão de IA Alura e Google.\n",
        "Neste projeto utilizo o Gemni AI e Python para obter notícias de uma lista de feeds RSS e com a ajuda do Gemini agrupar noticias semelhantes e gerar um resumo delas, formando um documento a ser enviado por e-mail com o resumo diário de notícias.\n",
        "\n",
        "## Instalar e importar os pacotes de de apoio"
      ],
      "metadata": {
        "id": "JK7ta6TdWs5R"
      }
    },
    {
      "cell_type": "code",
      "source": [
        "!pip install -U -q feedparser google-generativeai mistletoe"
      ],
      "metadata": {
        "id": "ccS7p_tTV9b9"
      },
      "execution_count": 1,
      "outputs": []
    },
    {
      "cell_type": "code",
      "source": [
        "import feedparser\n",
        "import google.generativeai as genai\n",
        "import matplotlib.pyplot as plt\n",
        "import mistletoe\n",
        "import numpy as np\n",
        "import pandas as pd\n",
        "import pytz\n",
        "import time\n",
        "\n",
        "from datetime import date, datetime\n",
        "from google.colab import userdata\n",
        "from IPython.display import display, HTML\n",
        "# from sklearn.metrics.pairwise import cosine_similarity\n",
        "from scipy.spatial.distance import cosine\n",
        "from tqdm.auto import tqdm"
      ],
      "metadata": {
        "id": "KuYPuZB5XjAF"
      },
      "execution_count": 2,
      "outputs": []
    },
    {
      "cell_type": "markdown",
      "source": [
        "### Configurar a API KEY do Gemini"
      ],
      "metadata": {
        "id": "pjmbYzpWw1-F"
      }
    },
    {
      "cell_type": "code",
      "source": [
        "genai.configure(api_key=userdata.get('GENAI_API_KEY'))"
      ],
      "metadata": {
        "id": "VE340DQGw8Zt"
      },
      "execution_count": 3,
      "outputs": []
    },
    {
      "cell_type": "markdown",
      "source": [
        "## Obter notícias e gerar um dataframe pandas com a lista\n",
        "### Definir funções de apoio para baixar as notícias dos feeds e adicionar ao ```Data Frame``` de notícias\n",
        "\n",
        "Transforma a ```string```de data em um objeto data e faz ajustes para que não tenha dados em português\n"
      ],
      "metadata": {
        "id": "g-Po6f3mX3Zx"
      }
    },
    {
      "cell_type": "code",
      "source": [
        "def parse_date(data:str) -> date:\n",
        "  # print(\"Data:\", data)\n",
        "  data = data.replace(\"Fev\", \"Feb\")\n",
        "  data = data.replace(\"Abr\", \"Apr\")\n",
        "  data = data.replace(\"Mai\", \"May\")\n",
        "  data = data.replace(\"Ago\", \"Aug\")\n",
        "  data = data.replace(\"Set\", \"Sep\")\n",
        "  data = data.replace(\"Out\", \"Oct\")\n",
        "  data = data.replace(\"Dez\", \"Dec\")\n",
        "\n",
        "  data = data.replace(\"Dom\", \"Sun\")\n",
        "  data = data.replace(\"Seg\", \"Mon\")\n",
        "  data = data.replace(\"Ter\", \"Tue\")\n",
        "  data = data.replace(\"Qua\", \"Wed\")\n",
        "  data = data.replace(\"Qui\", \"Thu\")\n",
        "  data = data.replace(\"Sex\", \"Fri\")\n",
        "  data = data.replace(\"Sáb\", \"Sat\")\n",
        "\n",
        "  return datetime.strptime(data, \"%a, %d %b %Y %H:%M:%S %z\")"
      ],
      "metadata": {
        "id": "lMVe5ozUl3ba"
      },
      "execution_count": 4,
      "outputs": []
    },
    {
      "cell_type": "markdown",
      "source": [
        "Carrega as notícias diretamente do feed e filtra pela data base informada"
      ],
      "metadata": {
        "id": "2zs8CbramK3e"
      }
    },
    {
      "cell_type": "code",
      "execution_count": 5,
      "metadata": {
        "id": "vgJiF1RZVzf7"
      },
      "outputs": [],
      "source": [
        "def carregar_noticias(feed_link:str, data:date=datetime.now(pytz.timezone('America/Sao_Paulo')).date()) -> pd.DataFrame:\n",
        "  noticias = []\n",
        "  feed = feedparser.parse(feed_link)\n",
        "  for entry in feed.entries:\n",
        "      data_pub = parse_date(entry.published)\n",
        "\n",
        "      if data_pub.date() >= data:\n",
        "        noticia = {}\n",
        "        noticia[\"link\"] = entry.link\n",
        "        noticia[\"title\"] = entry.title\n",
        "        noticia[\"text\"] = entry.summary\n",
        "        noticia[\"publihed\"] = entry.published\n",
        "\n",
        "        noticias.append(noticia)\n",
        "\n",
        "  return pd.DataFrame(noticias)"
      ]
    },
    {
      "cell_type": "markdown",
      "source": [
        "### Carregar Notícias\n",
        "Carrega as notícias de 3 fontes:\n",
        "- G1: https://g1.globo.com/dynamo/tecnologia/rss2.xml\n",
        "- UOL: https://rss.uol.com.br/feed/tecnologia.xml\n",
        "- Wired: https://www.wired.com/feed/rss\n",
        "\n",
        "Este último obtém notícias em inglês.\n"
      ],
      "metadata": {
        "id": "DXj8PMXrmaLP"
      }
    },
    {
      "cell_type": "code",
      "source": [
        "data_base = date(2024, 5, 10 )\n",
        "df_noticias = carregar_noticias(\"https://g1.globo.com/dynamo/tecnologia/rss2.xml\", data_base)\n",
        "df_noticias = pd.concat([df_noticias, carregar_noticias(\"https://rss.uol.com.br/feed/tecnologia.xml\", data_base)])\n",
        "df_noticias = pd.concat([df_noticias, carregar_noticias(\"https://www.wired.com/feed/rss\", data_base)])"
      ],
      "metadata": {
        "id": "hgd1fItfY9lp"
      },
      "execution_count": 6,
      "outputs": []
    },
    {
      "cell_type": "code",
      "source": [
        "print(f\"Localizadas {df_noticias.shape[0]} notícias\")"
      ],
      "metadata": {
        "colab": {
          "base_uri": "https://localhost:8080/"
        },
        "id": "qii8idwJZK8d",
        "outputId": "89362354-b517-432e-b32d-6257c7281265"
      },
      "execution_count": 7,
      "outputs": [
        {
          "output_type": "stream",
          "name": "stdout",
          "text": [
            "Localizadas 37 notícias\n"
          ]
        }
      ]
    },
    {
      "cell_type": "markdown",
      "source": [
        "## Identificar e agrupar noticias similares\n",
        "\n",
        "Gera um resumo de um texto utilizando o Gemini 1.0 Pró"
      ],
      "metadata": {
        "id": "_tydNOiZnw5h"
      }
    },
    {
      "cell_type": "code",
      "source": [
        "def resumo_embed(texto:str) -> str:\n",
        "  # Set up the model\n",
        "  generation_config = {\n",
        "    \"temperature\": 0.9,\n",
        "    \"top_p\": 1,\n",
        "    \"top_k\": 0,\n",
        "    \"max_output_tokens\": 2048,\n",
        "  }\n",
        "\n",
        "  safety_settings = [\n",
        "    {\n",
        "      \"category\": \"HARM_CATEGORY_HARASSMENT\",\n",
        "      \"threshold\": \"BLOCK_LOW_AND_ABOVE\"\n",
        "    },\n",
        "    {\n",
        "      \"category\": \"HARM_CATEGORY_HATE_SPEECH\",\n",
        "      \"threshold\": \"BLOCK_MEDIUM_AND_ABOVE\"\n",
        "    },\n",
        "    {\n",
        "      \"category\": \"HARM_CATEGORY_SEXUALLY_EXPLICIT\",\n",
        "      \"threshold\": \"BLOCK_MEDIUM_AND_ABOVE\"\n",
        "    },\n",
        "    {\n",
        "      \"category\": \"HARM_CATEGORY_DANGEROUS_CONTENT\",\n",
        "      \"threshold\": \"BLOCK_MEDIUM_AND_ABOVE\"\n",
        "    },\n",
        "  ]\n",
        "\n",
        "  model = genai.GenerativeModel(model_name=\"gemini-1.0-pro\",\n",
        "                                generation_config=generation_config,\n",
        "                                safety_settings=safety_settings)\n",
        "\n",
        "  convo = model.start_chat(history=[\n",
        "    {\n",
        "      \"role\": \"user\",\n",
        "      \"parts\": [\"resumir o texto em até 3 paragrafos sem colocar **Parágrafo n:** onde n é o número do parágrafo:\"]\n",
        "    },\n",
        "    {\n",
        "      \"role\": \"model\",\n",
        "      \"parts\": [texto]\n",
        "    },\n",
        "  ])\n",
        "\n",
        "  convo.send_message(texto)\n",
        "  return convo.last.text"
      ],
      "metadata": {
        "id": "1rrCL-IENSQi"
      },
      "execution_count": 8,
      "outputs": []
    },
    {
      "cell_type": "markdown",
      "source": [
        "Função para calcular o embedding da notícia. Se o texto for maior que 9000 caracteres usa o Gemini 1.5 Pró senão utiliza o 1.0 Pró."
      ],
      "metadata": {
        "id": "32SgagRpNcQH"
      }
    },
    {
      "cell_type": "code",
      "source": [
        "def calcular_embed(title:str, text:str, model:str=\"models/embedding-001\"):\n",
        "  embeddings = []\n",
        "  resumo = text\n",
        "  if len(text) > 9000:\n",
        "    resumo = resumo_embed(text)\n",
        "\n",
        "  # print(title, len(resumo))\n",
        "  try:\n",
        "    embeddings = genai.embed_content(model=model,\n",
        "                                  content=resumo,\n",
        "                                  title=title,\n",
        "                                  task_type=\"RETRIEVAL_DOCUMENT\")[\"embedding\"]\n",
        "  except:\n",
        "    pass\n",
        "\n",
        "  return embeddings\n",
        "\n",
        "def cosine_similarity(embedding1, embedding2):\n",
        "  # Calcular a distância cosseno\n",
        "  distance = cosine(embedding1, embedding2)\n",
        "  # Retornar 1 - distância cosseno para obter similaridade\n",
        "  return 1 - distance"
      ],
      "metadata": {
        "id": "eghQr3oNs4SD"
      },
      "execution_count": 9,
      "outputs": []
    },
    {
      "cell_type": "markdown",
      "source": [
        "Gerar o embbeding para todas as notícias"
      ],
      "metadata": {
        "id": "PCoG7EhwtfLa"
      }
    },
    {
      "cell_type": "code",
      "source": [
        "df_noticias[\"embedings\"] = df_noticias.apply(lambda row: calcular_embed(row[\"title\"], row[\"text\"], \"models/text-embedding-004\"), axis=1)"
      ],
      "metadata": {
        "id": "2-6dML9OtkHh"
      },
      "execution_count": 10,
      "outputs": []
    },
    {
      "cell_type": "markdown",
      "source": [
        "#### Determinar a similaridade das notícias\n",
        "\n",
        "Utiliza a a similaridade de coseno para calcular um valor entre 0 e 1, onde 0 não é similar e 1 é similar."
      ],
      "metadata": {
        "id": "XSq4cE-oNn8s"
      }
    },
    {
      "cell_type": "code",
      "source": [
        "embeddings = df_noticias['embedings'].to_numpy()\n",
        "\n",
        "n = embeddings.shape[0]  # Número de linhas no dataframe\n",
        "similarity_matrix = np.zeros((n, n))\n",
        "\n",
        "for i in range(n):\n",
        "  for j in range(i + 1, n):\n",
        "    similarity_matrix[i, j] = cosine_similarity(embeddings[i], embeddings[j])\n",
        "    similarity_matrix[j, i] = similarity_matrix[i, j]  # Matriz simétrica"
      ],
      "metadata": {
        "id": "O3AAQzCA1XMr"
      },
      "execution_count": 11,
      "outputs": []
    },
    {
      "cell_type": "markdown",
      "source": [
        "Com base no calculado anteriormente gera uma matriz com as notícias similares"
      ],
      "metadata": {
        "id": "5N_khzVKOAPd"
      }
    },
    {
      "cell_type": "code",
      "source": [
        "def most_similar_embeddings(embeddings, similarity_matrix, threshold=0.75):\n",
        "  \"\"\"\n",
        "  Encontra os embeddings mais similares para cada linha no dataframe.\n",
        "\n",
        "  Args:\n",
        "    embeddings: Array NumPy contendo os embeddings.\n",
        "    similarity_matrix: Matriz NumPy de similaridade entre embeddings.\n",
        "\n",
        "  Returns:\n",
        "    Um dicionário onde cada chave é o índice da linha e o valor é um tupla contendo o índice do embedding mais similar e sua similaridade.\n",
        "  \"\"\"\n",
        "\n",
        "  most_similar = {}\n",
        "  for i in range(len(embeddings)):\n",
        "    # Encontrar o índice do embedding mais similar (maior valor na coluna)\n",
        "    most_similar_idx = np.argmax(similarity_matrix[i])\n",
        "    # Obter a similaridade\n",
        "    similarity = similarity_matrix[i, most_similar_idx]\n",
        "    # Armazenar na lista\n",
        "    if similarity > threshold:\n",
        "      most_similar[i] = (most_similar_idx, similarity)\n",
        "\n",
        "  return most_similar\n",
        "\n",
        "# Exemplo de uso"
      ],
      "metadata": {
        "id": "HWAlSRF18gvI"
      },
      "execution_count": 12,
      "outputs": []
    },
    {
      "cell_type": "markdown",
      "source": [
        "Adiciona ao dataframe as notícias similares, evitando repetição"
      ],
      "metadata": {
        "id": "R7t_E6cYOJMl"
      }
    },
    {
      "cell_type": "code",
      "source": [
        "def add_relacao(idx, idx2):\n",
        "  if idx2 not in df_noticias.iloc[idx][\"relacionadas\"]:\n",
        "    df_noticias.iloc[idx][\"relacionadas\"].append(idx2)\n",
        "\n",
        "df_noticias[\"relacionadas\"] = df_noticias.apply(lambda row: [], axis=1)\n",
        "similares = most_similar_embeddings(embeddings, similarity_matrix, 0.7)\n",
        "for idx in similares:\n",
        "  idx2, _ = similares[idx]\n",
        "  add_relacao(idx, idx2)\n",
        "  add_relacao(idx2, idx)"
      ],
      "metadata": {
        "id": "gFUsUr4cAiaq"
      },
      "execution_count": 13,
      "outputs": []
    },
    {
      "cell_type": "markdown",
      "source": [
        "## Gerar Resumo das notícias\n",
        "\n",
        "Utilizando o Gemnini 1.5 Pro gera a lista de noticias com seu resumo."
      ],
      "metadata": {
        "id": "LgnjkpB3n34k"
      }
    },
    {
      "cell_type": "code",
      "source": [
        "# Set up the model\n",
        "generation_config = {\n",
        "  \"temperature\": 1,\n",
        "  \"top_p\": 0.95,\n",
        "  \"top_k\": 0,\n",
        "  \"max_output_tokens\": 8192,\n",
        "}\n",
        "\n",
        "safety_settings = [\n",
        "  {\n",
        "    \"category\": \"HARM_CATEGORY_HARASSMENT\",\n",
        "    \"threshold\": \"BLOCK_MEDIUM_AND_ABOVE\"\n",
        "  },\n",
        "  {\n",
        "    \"category\": \"HARM_CATEGORY_HATE_SPEECH\",\n",
        "    \"threshold\": \"BLOCK_MEDIUM_AND_ABOVE\"\n",
        "  },\n",
        "  {\n",
        "    \"category\": \"HARM_CATEGORY_SEXUALLY_EXPLICIT\",\n",
        "    \"threshold\": \"BLOCK_MEDIUM_AND_ABOVE\"\n",
        "  },\n",
        "  {\n",
        "    \"category\": \"HARM_CATEGORY_DANGEROUS_CONTENT\",\n",
        "    \"threshold\": \"BLOCK_MEDIUM_AND_ABOVE\"\n",
        "  },\n",
        "]\n",
        "\n",
        "system_instruction = \"Como um reporter especializado em tecnologia, porém, focado em escrever para um grupo de nerds, sem muita formalidade, mas, com uma escrita profissional sem uso excessivo de gírias\"\n",
        "# system_instruction = \"Como um reporter especializado em tecnologia, porém, focado em escrever para um grupo de nerds, sem muita formalidade, mas, com uma escrita profissional\"\n",
        "\n",
        "\n",
        "def resumir(texto:str) -> str:\n",
        "  modelo = \"gemini-1.5-pro-latest\"\n",
        "  # modelo = \"gemini-1.0-pro\"\n",
        "  model = genai.GenerativeModel(model_name=modelo,\n",
        "                                generation_config=generation_config,\n",
        "                                system_instruction=system_instruction,\n",
        "                                safety_settings=safety_settings)\n",
        "  convo = model.start_chat(history=[\n",
        "    {\n",
        "      \"role\": \"user\",\n",
        "      \"parts\": [\"Informação:\\nAbaixo temos uma lista de notícias sobre um mesmo tema e separadas por ----- e elas podem ser em várias línguas diferentes.\\n\\nObjetivo:\\nResumir em dois parágrafos o que as noticias estão falando e gerar um título para elas na primeira linha.\"]\n",
        "    },\n",
        "  ])\n",
        "\n",
        "  pausa = 30\n",
        "  resumo = \"\"\n",
        "  for retry in range(5):\n",
        "    try:\n",
        "      convo.send_message(noticia.text)\n",
        "\n",
        "      resumo = convo.last.text\n",
        "      break\n",
        "    except:\n",
        "      time.sleep(pausa)\n",
        "      pausa += 10\n",
        "\n",
        "  return resumo\n"
      ],
      "metadata": {
        "id": "0AxVM0ADqbdK"
      },
      "execution_count": 14,
      "outputs": []
    },
    {
      "cell_type": "code",
      "source": [
        "resumo = \"\"\n",
        "resumo_md = \"\"\n",
        "for idx, noticia in tqdm(df_noticias.iterrows(), total=df_noticias.shape[0], desc=\"Gerando Resumos\"):\n",
        "  resenha = resumir(noticia)\n",
        "  resenha += f\"\\n\\nFonte: [{noticia.link}]({noticia.link})\"\n",
        "\n",
        "  if len(noticia.relacionadas) > 0:\n",
        "    resenha += \"\\n\\nRelacionadas:\"\n",
        "    for idx in noticia.relacionadas:\n",
        "      resenha += f\"\\n\\n   [{noticia.title}]({noticia.link})\"\n",
        "  resumo += mistletoe.markdown(resenha)\n",
        "  resumo_md += resenha\n",
        "  time.sleep(15)\n",
        "\n",
        "display(HTML(resumo))"
      ],
      "metadata": {
        "colab": {
          "base_uri": "https://localhost:8080/",
          "height": 1000,
          "referenced_widgets": [
            "fddde9a0e52c40e0a6699af9410aad38",
            "a6b89137a83d4656959c0eeeb44f1d11",
            "9d365032721f4af49b29dd936221e6a6",
            "3f392d5bd7e1414a8c7ede200bdac3f1",
            "322bac08b32941849ffee23218cbdd97",
            "b62eda7d8cec4d86a88fb7074e8f264a",
            "e732127fb2bf4f88b786eead86d46f6e",
            "b39a982b9e114e34ba1517d3b89a23b4",
            "5eacf075af1949389f277e5ad01d7416",
            "8c91f26a4bfe4aa2bfae0c5feba4876c",
            "3651d761abfb4861b623302bc1c97b6d"
          ]
        },
        "id": "rQJ73hl4qx0v",
        "outputId": "ad0c515f-061e-4816-9cb9-de4e310f8445"
      },
      "execution_count": 15,
      "outputs": [
        {
          "output_type": "display_data",
          "data": {
            "text/plain": [
              "Gerando Resumos:   0%|          | 0/37 [00:00<?, ?it/s]"
            ],
            "application/vnd.jupyter.widget-view+json": {
              "version_major": 2,
              "version_minor": 0,
              "model_id": "fddde9a0e52c40e0a6699af9410aad38"
            }
          },
          "metadata": {}
        },
        {
          "output_type": "stream",
          "name": "stderr",
          "text": [
            "WARNING:tornado.access:429 POST /v1beta/models/gemini-1.5-pro-latest:generateContent?%24alt=json%3Benum-encoding%3Dint (127.0.0.1) 735.52ms\n"
          ]
        },
        {
          "output_type": "display_data",
          "data": {
            "text/plain": [
              "<IPython.core.display.HTML object>"
            ],
            "text/html": [
              "<h2>Gigantes do E-commerce na mira da justiça por venda de celulares irregulares.</h2>\n",
              "<p>A Amazon e o Mercado Livre receberam um ultimato da Secretaria Nacional do Consumidor (Senacon) para removerem, em até 48 horas, anúncios de celulares irregulares, identificados como os 50 maiores vendedores dessas plataformas.  A ação, motivada por denúncias da Abinee, visa combater a venda de dispositivos sem homologação da Anatel, carregador padrão brasileiro, garantia e rede de assistência técnica autorizada. A Senacon destaca os riscos à saúde dos consumidores e a violação das normas de segurança e qualidade.</p>\n",
              "<p>Ambas as empresas se pronunciaram, afirmando colaborar com as autoridades. A Amazon garante que não comercializa produtos irregulares e exige certificações dos seus parceiros, com penalidades para infratores.  O Mercado Livre reforça seu compromisso com a qualidade e segurança,  removendo anúncios e banindo vendedores de produtos irregulares.  A empresa  ressalta sua colaboração com a Anatel e fabricantes no combate a irregularidades, através do programa Brand Protection Program.</p>\n",
              "<p>Fonte: <a href=\"https://g1.globo.com/tecnologia/noticia/2024/05/10/amazon-e-mercado-livre-sao-notificadas-pelo-governo-devido-a-venda-de-celulares-irregulares.ghtml\">https://g1.globo.com/tecnologia/noticia/2024/05/10/amazon-e-mercado-livre-sao-notificadas-pelo-governo-devido-a-venda-de-celulares-irregulares.ghtml</a></p>\n",
              "<h2>Sala de Guerra Digital: Governo Combate Fake News no RS</h2>\n",
              "<p>Em resposta à enxurrada de notícias falsas que se espalhou em meio à crise no Rio Grande do Sul, o governo federal estabeleceu uma \"sala de guerra\" digital. Liderada pela Advocacia-Geral da União (AGU), a iniciativa conta com a participação de diversos ministérios e órgãos, além da Polícia Federal. O objetivo? Combater a desinformação e garantir que a ajuda chegue aos necessitados sem entraves.</p>\n",
              "<p>Um dos focos da força-tarefa é a colaboração com plataformas digitais. Gigantes como Google, Meta e TikTok já se mostraram dispostos a auxiliar na identificação e remoção de conteúdo falso, especialmente aqueles relacionados a falsas campanhas de doação via Pix. O combate a esse tipo de golpe, que se aproveita da vulnerabilidade das vítimas em momentos de crise, é crucial para garantir que a solidariedade se transforme em ajuda real.</p>\n",
              "<p>Fonte: <a href=\"https://g1.globo.com/politica/noticia/2024/05/10/agu-monta-sala-de-guerra-de-combate-as-fake-news-sobre-tragedia-no-rs.ghtml\">https://g1.globo.com/politica/noticia/2024/05/10/agu-monta-sala-de-guerra-de-combate-as-fake-news-sobre-tragedia-no-rs.ghtml</a></p>\n",
              "<h2>TikTok vai marcar conteúdo gerado por IA</h2>\n",
              "<p>A plataforma TikTok anunciou que vai começar a usar uma tecnologia para identificar imagens e vídeos criados por inteligência artificial (IA) e que são publicados em sua plataforma. A solução chamada \"Credenciais de Conteúdo\", vai funcionar como uma marca d'água digital que indica a origem do material.</p>\n",
              "<p>A iniciativa, liderada pela Adobe, visa aumentar a transparência sobre o uso de IA na criação de conteúdo online. Diversas empresas, como OpenAI, YouTube e Meta, também já  demonstraram interesse em adotar a tecnologia. O TikTok já rotulava conteúdo gerado por IA criado dentro do próprio aplicativo, mas agora expandirá a prática para conteúdo gerado fora da plataforma. A empresa reforçou ainda que conteúdo realista gerado por IA que não estiver devidamente identificado será removido por violar as diretrizes da comunidade.</p>\n",
              "<p>Fonte: <a href=\"https://g1.globo.com/tecnologia/noticia/2024/05/10/tiktok-diz-que-vai-rotular-imagens-e-videos-criados-por-inteligencia-artificial.ghtml\">https://g1.globo.com/tecnologia/noticia/2024/05/10/tiktok-diz-que-vai-rotular-imagens-e-videos-criados-por-inteligencia-artificial.ghtml</a></p>\n",
              "<h2>Notebooks premium: poder de fogo para quem não se importa com o preço</h2>\n",
              "<p>O Guia de Compras do g1 testou três notebooks topo de linha: o Apple MacBook Air M3, o Dell XPS 13 Plus e o Samsung Galaxy Book4 Ultra. Apesar do alto custo, que varia de R$ 12 mil a R$ 19 mil, os notebooks oferecem design elegante, telas de alta resolução, processadores poderosos e recursos de inteligência artificial. As diferenças ficam por conta do tamanho da tela, conexões, duração da bateria e desempenho. O MacBook Air se destaca pela leveza e bateria de longa duração, enquanto o Dell XPS 13 Plus impressiona pela tela 4K e design compacto. Já o Galaxy Book4 Ultra entrega o máximo desempenho, com placa de vídeo dedicada e recursos avançados de IA.</p>\n",
              "<p>Vale a pena investir em um notebook premium? A resposta depende do seu perfil de uso. Profissionais que exigem alto desempenho, como designers, editores de vídeo e usuários avançados, certamente se beneficiarão da potência e recursos desses notebooks. No entanto, para o usuário comum, o investimento pode não se justificar, já que as funcionalidades de IA ainda são limitadas e pouco exploradas em aplicativos do dia a dia. A escolha final dependerá do seu orçamento e das suas necessidades específicas.</p>\n",
              "<p>Fonte: <a href=\"https://g1.globo.com/guia/guia-de-compras/tecnologia/como-e-usar-os-notebooks-que-custam-acima-de-r-12-mil-g1-testou-3-modelos.ghtml\">https://g1.globo.com/guia/guia-de-compras/tecnologia/como-e-usar-os-notebooks-que-custam-acima-de-r-12-mil-g1-testou-3-modelos.ghtml</a></p>\n",
              "<h2>Rádio de Pilha: O Retorno do Herói Analógico</h2>\n",
              "<p>Em meio ao caos provocado pelas enchentes no Rio Grande do Sul, um dispositivo aparentemente obsoleto ressurgiu como um verdadeiro herói da comunicação: o rádio de pilha. Com a infraestrutura de energia e internet comprometida em diversas áreas,  o bom e velho radinho de pilha provou ser um aliado crucial para manter as pessoas informadas e conectadas.</p>\n",
              "<p>Servindo como um elo vital entre a população afetada e o mundo exterior, o rádio de pilha tem sido fundamental para a disseminação de informações importantes,  alertas de segurança e notícias sobre o andamento da situação no estado. Em tempos de crise, a tecnologia analógica demonstra sua resiliência e importância, mostrando que, às vezes, as soluções mais simples podem ser as mais eficazes.</p>\n",
              "<p>Fonte: <a href=\"https://www.uol.com.br/tilt/noticias/redacao/2024/05/11/radinho-de-pilha-rs.htm\">https://www.uol.com.br/tilt/noticias/redacao/2024/05/11/radinho-de-pilha-rs.htm</a></p>\n",
              "<p>Fonte: <a href=\"https://www.uol.com.br/tilt/ultimas-noticias/estado/2024/05/11/como-seria-cair-dentro-de-um-buraco-negro-a-nasa-mostra.htm\">https://www.uol.com.br/tilt/ultimas-noticias/estado/2024/05/11/como-seria-cair-dentro-de-um-buraco-negro-a-nasa-mostra.htm</a></p>\n",
              "<h2>Neuralink: problemas no paraíso cerebral?</h2>\n",
              "<p>A Neuralink, empresa de Elon Musk focada em implantes cerebrais, está enfrentando alguns percalços. Após a empolgação inicial com o sucesso da primeira implantação em um ser humano, a companhia admitiu a existência de problemas com o dispositivo.  As primeiras semanas após o procedimento, que ocorreu sem intercorrências,  sugerem que a jornada para conectar cérebros a computadores ainda apresenta desafios consideráveis.</p>\n",
              "<p>Embora detalhes específicos sobre os problemas não tenham sido divulgados, a admissão levanta questões sobre a segurança e eficácia da tecnologia. A Neuralink, por sua vez, mantém otimismo,  afirmando  que está trabalhando para solucionar as falhas e aprimorar o dispositivo. Resta saber se a empresa conseguirá superar esses obstáculos e cumprir a promessa de revolucionar a interface entre humanos e máquinas.</p>\n",
              "<p>Fonte: <a href=\"https://www.uol.com.br/tilt/ultimas-noticias/estado/2024/05/10/neuralink-teve-problemas-no-implante-cerebral-de-paciente-tetraplegico.htm\">https://www.uol.com.br/tilt/ultimas-noticias/estado/2024/05/10/neuralink-teve-problemas-no-implante-cerebral-de-paciente-tetraplegico.htm</a></p>\n",
              "<h2>Chuva de Lava? James Webb Detecta Atmosfera em Exoplaneta Rochoso!</h2>\n",
              "<p>O James Webb fez mais uma descoberta incrível, dessa vez a 41 milhões de anos-luz daqui! O supertelescópio detectou sinais de uma atmosfera em um exoplaneta rochoso. Essa é a primeira vez que conseguimos analisar a atmosfera de um planeta com características tão próximas da Terra fora do nosso sistema solar.</p>\n",
              "<p>Essa descoberta abre portas para entendermos melhor a composição de planetas rochosos e quem sabe, encontrar outros mundos habitáveis por aí. A pesquisa ainda está em andamento, mas já podemos comemorar mais esse passo gigante na exploração espacial!</p>\n",
              "<p>Fonte: <a href=\"https://www.uol.com.br/tilt/ultimas-noticias/estado/2024/05/10/descoberta-de-atmosfera-em-exoplaneta-pode-explicar-o-inicio-da-terra.htm\">https://www.uol.com.br/tilt/ultimas-noticias/estado/2024/05/10/descoberta-de-atmosfera-em-exoplaneta-pode-explicar-o-inicio-da-terra.htm</a></p>\n",
              "<p><strong>Chuvas Intensas Castigam o Rio Grande do Sul</strong></p>\n",
              "<p>O Rio Grande do Sul enfrenta um cenário devastador com enchentes generalizadas. Diversas regiões do estado estão debaixo d'água, causando enorme impacto e desalojando milhares de pessoas. As imagens aéreas mostram a dimensão da tragédia, com casas, ruas e paisagens completamente submersas.</p>\n",
              "<p>Especialistas alertam que essa situação já havia sido prevista, com outros eventos climáticos recentes servindo como alertas para a possibilidade de um desastre dessa magnitude. A combinação de chuvas intensas e falta de infraestrutura adequada agrava ainda mais o problema, colocando em evidência a necessidade urgente de medidas preventivas para evitar tragédias semelhantes no futuro.</p>\n",
              "<p>Fonte: <a href=\"https://www.uol.com.br/tilt/noticias/redacao/2024/05/10/previsao-de-chuva-o-que-e-levado-em-consideracao.htm\">https://www.uol.com.br/tilt/noticias/redacao/2024/05/10/previsao-de-chuva-o-que-e-levado-em-consideracao.htm</a></p>\n",
              "<h2>Street View Detetive: Google Maps ajuda a solucionar mistério de desaparecimento</h2>\n",
              "<p>Uma idosa desaparecida há dois anos foi encontrada graças à perspicácia das autoridades e à tecnologia do Google Street View. As imagens capturadas pela ferramenta permitiram traçar o caminho percorrido pela mulher no dia do seu desaparecimento, fornecendo pistas cruciais para a investigação.</p>\n",
              "<p>A análise detalhada do Street View revelou detalhes importantes que passaram despercebidos inicialmente, mostrando o poder da tecnologia em auxiliar em casos reais e complexos. A descoberta traz alívio para a família e demonstra o potencial  do Street View para além da simples navegação, abrindo portas para novas aplicações em investigações e  segurança.</p>\n",
              "<p>Fonte: <a href=\"https://www.uol.com.br/tilt/noticias/redacao/2024/05/10/como-sumico-de-idosa-foi-solucionado-com-pista-achada-no-google-maps.htm\">https://www.uol.com.br/tilt/noticias/redacao/2024/05/10/como-sumico-de-idosa-foi-solucionado-com-pista-achada-no-google-maps.htm</a></p>\n",
              "<h2>Brasil, celeiro de inovações: do campo à saúde, tecnologia verde e amarela dá show!</h2>\n",
              "<p>O Brasil tem se destacado como um polo de inovação, com novas tecnologias pipocando em diversas áreas.  De acordo com a reportagem, o país tem apresentado soluções inovadoras que vão da saúde às telecomunicações, passando pelo agronegócio e impactando até o dia a dia dos brasileiros.</p>\n",
              "<p>Essa efervescência tecnológica demonstra a capacidade do país em gerar soluções criativas para os mais diversos desafios, consolidando o Brasil como um player importante no cenário global de inovação. A notícia, ilustrada com a imagem de um futuro promissor, reforça a ideia de um país que se reinventa e busca soluções para um futuro mais eficiente e tecnológico.</p>\n",
              "<p>Fonte: <a href=\"https://www.uol.com.br/tilt/noticias/redacao/2024/05/10/brasil-do-futuro-novo-projeto-do-uol-vai-retratar-inovacoes-brasileiras.htm\">https://www.uol.com.br/tilt/noticias/redacao/2024/05/10/brasil-do-futuro-novo-projeto-do-uol-vai-retratar-inovacoes-brasileiras.htm</a></p>\n",
              "<h2>A dança das cadeiras no iOS: quem fica e quem sai do baile?</h2>\n",
              "<p>A Apple segue com sua ciranda de atualizações e, ao que tudo indica, o baile do iOS 18 não terá espaço para alguns convidados. Os iPhones 8, 8 Plus e X, lançados em 2017, já ficaram de fora da festa do iOS 17 e, segundo as expectativas, os modelos de 2018 (XS, XS Max e XR) provavelmente serão os próximos a pendurar as chuteiras.</p>\n",
              "<p>Vale lembrar que os iPhones mais novos rodam atualmente com o iOS 17, e a Apple deve revelar as novidades do iOS 18 em junho de 2024.  Enquanto alguns modelos se despedem das atualizações, resta aos usuários dos aparelhos mais recentes aguardarem ansiosamente pelas novas funcionalidades e melhorias que a maçã trará em sua próxima versão do sistema operacional.</p>\n",
              "<p>Fonte: <a href=\"https://www.uol.com.br/tilt/noticias/redacao/2024/05/10/meu-iphone-nao-recebera-novas-versoes-do-ios-o-que-isso-significa.htm\">https://www.uol.com.br/tilt/noticias/redacao/2024/05/10/meu-iphone-nao-recebera-novas-versoes-do-ios-o-que-isso-significa.htm</a></p>\n",
              "<h2>Controle seu peso como um profissional: os melhores aplicativos para monitorar sua saúde!</h2>\n",
              "<p>Se você está pronto para começar a monitorar seu peso, IMC e outros dados importantes sobre sua saúde diretamente no seu celular, prepare-se! Testamos e avaliamos alguns dos melhores aplicativos disponíveis para te ajudar nessa jornada.</p>\n",
              "<p>De opções simples e intuitivas para registrar suas refeições e atividades físicas até plataformas completas com gráficos detalhados e integração com outros dispositivos, encontramos aplicativos para todos os gostos e necessidades. Continue lendo para descobrir quais aplicativos se destacaram e como eles podem te ajudar a alcançar seus objetivos de saúde!</p>\n",
              "<p>Fonte: <a href=\"https://www.wired.com/gallery/best-smart-scales/\">https://www.wired.com/gallery/best-smart-scales/</a></p>\n",
              "<h2>Apollo investe em scooter elétrica de médio alcance com pacote completo</h2>\n",
              "<p>A Apollo está lançando um novo modelo de scooter elétrica de médio alcance que promete ser um pacote completo com tudo que você sempre quis. Pesando 46 libras, a scooter se destaca por oferecer um conjunto de recursos e funcionalidades que a tornam uma opção interessante no mercado.</p>\n",
              "<p>Detalhes sobre as especificações, desempenho e preço ainda não foram divulgados, mas a promessa de um pacote completo sugere que a Apollo está mirando em um público que busca qualidade e praticidade em um só lugar. Resta aguardar por mais informações para ver se a scooter corresponde às expectativas.</p>\n",
              "<p>Fonte: <a href=\"https://www.wired.com/review/apollo-go-2024/\">https://www.wired.com/review/apollo-go-2024/</a></p>\n",
              "<h2>Devs vs. IA: A Rebelião dos Dados</h2>\n",
              "<p>A comunidade de desenvolvedores está se rebelando contra o uso de seus códigos e textos por inteligências artificiais, como o ChatGPT da OpenAI. Diversos relatos indicam que programadores estão apagando ou modificando seus posts online para evitar que sirvam de alimento para o treinamento dessas IAs. A preocupação reside no uso indiscriminado de seus trabalhos, sem permissão ou reconhecimento, para alimentar sistemas que, por sua vez, podem ser usados para gerar códigos e textos automaticamente.</p>\n",
              "<p>Essa ação levanta questões importantes sobre o futuro da programação e da autoria em um mundo cada vez mais moldado por algoritmos.  A comunidade de desenvolvedores  busca proteger sua propriedade intelectual e garantir que seu trabalho não seja utilizado para fins que não compactuam, especialmente em um cenário onde a linha entre criação humana e artificial se torna cada vez mais tênue.</p>\n",
              "<p>Fonte: <a href=\"https://www.wired.com/story/stack-overflow-users-openai-revolt/\">https://www.wired.com/story/stack-overflow-users-openai-revolt/</a></p>\n",
              "<h2>Beats esquece firulas e foca no som em seus novos fones</h2>\n",
              "<p>A Beats lançou seus novos fones de ouvido on-ear, e a grande novidade, acredite ou não, é justamente a ausência de algumas. Nada de cancelamento de ruído, nem pausa automática – a empresa foi direto ao ponto e focou naquilo que realmente importa: a qualidade sonora.</p>\n",
              "<p>Ao que tudo indica, a aposta da Beats parece ter dado certo. As primeiras impressões apontam para um som fantástico, com riqueza de detalhes e clareza. Parece que a Beats está confiante de que, para os amantes de música, a experiência sonora impecável fala mais alto do que qualquer \"frufru\" tecnológico.</p>\n",
              "<p>Fonte: <a href=\"https://www.wired.com/review/beats-solo-4/\">https://www.wired.com/review/beats-solo-4/</a></p>\n",
              "<h2>Máquinas dos Sonhos: Guia Definitivo para Notebooks</h2>\n",
              "<p>Parece que o pessoal aqui curte um bom notebook, hein? Montaram uma lista completa com o que eles consideram o supra-sumo das máquinas portáteis, divididas entre Windows, MacBooks e Chromebooks. É pra agradar gregos e troianos, seja você fã de produtividade, design ou praticidade.</p>\n",
              "<p>Se você está pensando em investir em um novo companheiro digital, vale a pena dar uma olhada na seleção deles. Vai que você encontra a máquina perfeita para suas necessidades, né? 😉</p>\n",
              "<p>Fonte: <a href=\"https://www.wired.com/gallery/best-laptops/\">https://www.wired.com/gallery/best-laptops/</a></p>\n",
              "<p>Relacionadas:</p>\n",
              "<p><a href=\"https://www.wired.com/gallery/best-laptops/\">16 Best Laptops (2024): MacBooks, Windows, Chromebooks</a></p>\n",
              "<h2>Beleza e Performance sem Compromissos!</h2>\n",
              "<p>A Logitech lançou a linha Aurora, uma coleção de periféricos gamers que prova que estética e performance podem andar juntas. Esqueça o visual \"gamer\" tradicional, com cores vibrantes e design agressivo: a linha Aurora aposta em tons pastel e design clean, sem abrir mão de recursos avançados.</p>\n",
              "<p>Teclados, mouses, headsets e outros acessórios da linha oferecem alta performance para jogos, com funcionalidades como iluminação RGB personalizável e botões programáveis. A Logitech demonstra que é possível ter um setup gamer estiloso e poderoso, atendendo aos desejos daqueles que buscam personalização e performance sem abrir mão da beleza.</p>\n",
              "<p>Fonte: <a href=\"https://www.wired.com/review/logitech-aurora-collection/\">https://www.wired.com/review/logitech-aurora-collection/</a></p>\n",
              "<h2>Sonhos Artísticos Esmagados e Internet Acessível: A Semana em Tech</h2>\n",
              "<p>Essa semana, a Apple deu um banho de água fria nos artistas digitais ao anunciar que seu iPad superpotente, o iPad Pro com chip M2, não rodará apps profissionais como Octane X, que exigem bastante da GPU. Parece que nem todo poder de processamento do mundo é suficiente para a Apple se render à comunidade artística. Mas nem tudo foram lágrimas! A Comcast decidiu dar uma mãozinha para quem está sem grana, lançando planos de internet mais acessíveis. Finalmente!</p>\n",
              "<p>E para fechar com chave de ouro, o Black Twitter continua firme e forte, mostrando que nenhuma mudança na plataforma vai calar as vozes dessa comunidade. Afinal, o Twitter pode até ter um novo dono, mas a força do Black Twitter é independente de quem está no comando.</p>\n",
              "<p>Fonte: <a href=\"https://www.wired.com/story/people-do-not-like-the-new-sonos-app/\">https://www.wired.com/story/people-do-not-like-the-new-sonos-app/</a></p>\n",
              "<h2>Segurança em Xeque: Ataques, Robôs e Vazamentos</h2>\n",
              "<p>A China está sob suspeita de um ataque hacker direcionado ao exército do Reino Unido, colocando em destaque a crescente tensão geopolítica e a vulnerabilidade dos sistemas de defesa. Enquanto isso, os Marines dos EUA testam cães robóticos equipados com armas, levantando questões éticas e estratégicas sobre o futuro da guerra.</p>\n",
              "<p>Em outra frente, a Dell sofreu uma violação de dados que afetou 49 milhões de clientes, evidenciando a fragilidade da segurança digital, mesmo em empresas renomadas. Esses incidentes recentes reforçam a necessidade urgente de fortalecer a segurança cibernética em todos os níveis, desde infraestruturas críticas até dados pessoais.</p>\n",
              "<p>Fonte: <a href=\"https://www.wired.com/story/microsoft-gpt-4-us-spies-security-roundup/\">https://www.wired.com/story/microsoft-gpt-4-us-spies-security-roundup/</a></p>\n",
              "<h2>Parasitas em Perigo: Mudanças Climáticas Ameaçam Biodiversidade</h2>\n",
              "<p>Um estudo recente alerta para o impacto devastador das mudanças climáticas nos parasitas, criaturas frequentemente negligenciadas, mas essenciais para o equilíbrio dos ecossistemas. A pesquisa indica que o aumento das temperaturas, a acidificação dos oceanos e outras alterações ambientais estão levando à extinção de diversas espécies de parasitas.</p>\n",
              "<p>A perda desses organismos pode ter consequências imprevistas, já que eles desempenham papéis importantes na regulação de populações, na dinâmica de redes alimentares e na manutenção da biodiversidade. A extinção de parasitas pode levar à proliferação descontrolada de algumas espécies, prejudicando o funcionamento dos ecossistemas e colocando em risco a saúde humana.</p>\n",
              "<p>Fonte: <a href=\"https://www.wired.com/story/parasites-worms-climate-change-rfk/\">https://www.wired.com/story/parasites-worms-climate-change-rfk/</a></p>\n",
              "<h2>Preparem os bolsos, nerds! Conferência bombástica vem aí!</h2>\n",
              "<p>É isso mesmo, galera! A conferência anual de desenvolvedores está chegando com tudo, e a keynote de abertura rola já na terça-feira. Preparem-se para uma avalanche de novidades quentinhas sobre Android, Search e Assistant, sem falar, é claro, em inteligência artificial, que vai estar em tudo quanto é canto.</p>\n",
              "<p>Fiquem ligados, porque vamos cobrir cada detalhe dessa conferência épica! Novas features, tecnologias revolucionárias, e quem sabe até uns micos ao vivo, tudo aqui, na linguagem que a gente adora!</p>\n",
              "<p>Fonte: <a href=\"https://www.wired.com/story/google-io-2024-how-to-watch-what-to-expect/\">https://www.wired.com/story/google-io-2024-how-to-watch-what-to-expect/</a></p>\n",
              "<h2>Tempestade Solar promete show de luzes visível até em latitudes baixas!</h2>\n",
              "<p>Uma série de três ejeções de massa coronal (CMEs) vindas do Sol se fundiram em uma única onda de partículas carregadas, que está em rota de colisão com a Terra. Essa tempestade solar tem potencial para gerar auroras boreais visíveis em latitudes muito mais baixas do que o normal,  com chances de observação em locais como Moscou e Oklahoma City.</p>\n",
              "<p>Embora não represente risco direto à saúde humana, a tempestade pode causar interferências em satélites e redes elétricas, além de gerar um espetáculo de luzes impressionante para observadores em diversas partes do mundo.</p>\n",
              "<p>Fonte: <a href=\"https://www.wired.com/story/geomagnetic-storm-aurora-night-sky/\">https://www.wired.com/story/geomagnetic-storm-aurora-night-sky/</a></p>\n",
              "<h2>Hades II: Um guia para iniciantes desvendando o submundo</h2>\n",
              "<p>Preparem-se, mortais, pois Hades II chegou em acesso antecipado, trazendo consigo novos desafios e mistérios infernais para desvendar. Este guia, direcionado aos novatos no submundo, oferece conselhos preciosos para navegar pelas primeiras horas do jogo.</p>\n",
              "<p>A sequência da Supergiant promete expandir o universo do primeiro Hades, com novos personagens, armas e inimigos. Seguindo os passos da fórmula consagrada, o jogo combina elementos de RPG e roguelike, garantindo uma experiência viciante e recompensadora. Apertem os cintos, pois a jornada promete ser épica!</p>\n",
              "<p>Fonte: <a href=\"https://www.wired.com/story/hades-2-best-tips-beginners/\">https://www.wired.com/story/hades-2-best-tips-beginners/</a></p>\n",
              "<h2>VPNs Não São Tão Seguros Assim: Pesquisadores Revelam Vulnerabilidade Crítica</h2>\n",
              "<p>Um grupo de pesquisadores de segurança descobriu uma nova vulnerabilidade chamada TunnelVision que afeta conexões VPN. Essa falha permite que atacantes espionem o tráfego de usuários conectados à VPN,  comprometendo a privacidade e segurança da conexão.</p>\n",
              "<p>A TunnelVision explora uma fraqueza na forma como o sistema operacional Windows gerencia conexões VPN, permitindo que um invasor na mesma rede Wi-Fi, por exemplo,  acesse os dados que deveriam estar protegidos pela criptografia da VPN. Os pesquisadores já notificaram a Microsoft sobre a vulnerabilidade, e  recomendam aos usuários de VPN que mantenham seus sistemas operacionais atualizados e estejam atentos à segurança de suas conexões Wi-Fi.</p>\n",
              "<p>Fonte: <a href=\"https://www.wired.com/story/tunnelvision-vpn-attack/\">https://www.wired.com/story/tunnelvision-vpn-attack/</a></p>\n",
              "<h2>A Tia do Zap não precisa ser um pesadelo: Absorventes reutilizáveis invadem o mercado!</h2>\n",
              "<p>Chega de sofrer (tanto) com a menstruação! Uma nova onda de produtos ecológicos e confortáveis está dominando o mercado: absorventes reutilizáveis, calcinhas absorventes e coletores menstruais. Abrace a sustentabilidade sem abrir mão do conforto, e diga adeus aos descartáveis!</p>\n",
              "<p>Prepare-se para conhecer as novas tecnologias que prometem revolucionar a maneira como lidamos com o ciclo menstrual, sem abrir mão da praticidade e da segurança.</p>\n",
              "<p>Fonte: <a href=\"https://www.wired.com/story/best-menstrual-products/\">https://www.wired.com/story/best-menstrual-products/</a></p>\n",
              "<h2>Achado do Século: Listas de Presentes Online! 🎁</h2>\n",
              "<p>Preparando para um casamento ou para a chegada de um novo membro da família? Uma lista de presentes online pode facilitar a vida, centralizando os desejos para os convidados. Mas cuidado, nem todas as plataformas são iguais! É preciso pesquisar para encontrar a que melhor atende às suas necessidades, considerando fatores como variedade de produtos, opções de personalização e, claro, a facilidade de uso, tanto para você quanto para seus convidados!</p>\n",
              "<p>Fonte: <a href=\"https://www.wired.com/story/best-registries-for-weddings-baby-showers/\">https://www.wired.com/story/best-registries-for-weddings-baby-showers/</a></p>\n",
              "<h2>Sinfonia de Cigarras: Banquete Selvagem Anuncia Renascimento Natural</h2>\n",
              "<p>Preparem seus ouvidos e afiem seus palitos!  Duas ninhadas de cigarras, Brood XIX e Brood XIII, estão emergindo juntas pela primeira vez em 221 anos, criando um espetáculo sonoro único e um banquete épico para a natureza. Imagine milhões dessas criaturas vibrantes preenchendo o ar com sua sinfonia característica, um prenúncio de transformação em larga escala.</p>\n",
              "<p>Essa rara sincronia natural oferece uma oportunidade única para observar a cadeia alimentar em ação. Pássaros se banqueteiam com as cigarras, árvores se beneficiam dos nutrientes liberados no solo e até mesmo os humanos mais aventureiros podem experimentar essa iguaria crocante. Essa convergência de ciclos de vida nos lembra a complexa teia da vida e a beleza inegável dos ritmos da natureza.</p>\n",
              "<p>Fonte: <a href=\"https://www.wired.com/story/periodical-cicada-emergence-illinois/\">https://www.wired.com/story/periodical-cicada-emergence-illinois/</a></p>\n",
              "<h2>Presentes Tecnológicos para Aniversários Épicos</h2>\n",
              "<p>Prepare-se para celebrar aquele aniversário especial com presentes que vão além do convencional! Esqueça os presentes sem graça e mergulhe no mundo da tecnologia e inovação para encontrar o presente ideal para aquela pessoa querida.</p>\n",
              "<p>De gadgets modernos a equipamentos outdoor para os aventureiros, assinaturas de serviços inovadores e confortos tecnológicos para o dia a dia, as opções são infinitas! Explore as últimas novidades em tecnologia e encontre o presente perfeito para tornar o aniversário inesquecível.</p>\n",
              "<p>Fonte: <a href=\"https://www.wired.com/gallery/best-graduation-gift-ideas-2024/\">https://www.wired.com/gallery/best-graduation-gift-ideas-2024/</a></p>\n",
              "<h2>Máquinas Monstruosas: Analisamos os Laptops Gamers Mais Insanos do Mercado!</h2>\n",
              "<p>Prepara a mochila, jogador! Testamos os últimos modelos de laptops gamers e, cara, tem coisa fina! Da portabilidade absurda aos monstros de 18 polegadas, analisamos tudo pra você saber qual máquina te leva ao topo do pódio, onde quer que você esteja.</p>\n",
              "<p>Fique ligado para descobrir quais laptops dominaram nossos testes e qual deles se encaixa no seu estilo de jogo. Seja pra destruir hordas no sofá ou construir impérios em LAN parties, temos a análise perfeita pra você!</p>\n",
              "<p>Fonte: <a href=\"https://www.wired.com/gallery/best-gaming-laptops/\">https://www.wired.com/gallery/best-gaming-laptops/</a></p>\n",
              "<p>Relacionadas:</p>\n",
              "<p><a href=\"https://www.wired.com/gallery/best-gaming-laptops/\">6 Best Gaming Laptops (2024): From Cheap to Premium</a></p>\n",
              "<p><a href=\"https://www.wired.com/gallery/best-gaming-laptops/\">6 Best Gaming Laptops (2024): From Cheap to Premium</a></p>\n",
              "<h2>Monstro do Futuro: Laptop Gamer Recebe Upgrade Insano</h2>\n",
              "<p>Parece que alguém aí decidiu tacar nitro num foguete! Um laptop gamer bombástico recebeu um upgrade de respeito, com poder suficiente pra rodar qualquer jogo que você conseguir imaginar. Detalhes sobre o hardware ainda são segredo de estado, mas as specs prometem deixar muito PC gamer babando de inveja.</p>\n",
              "<p>Se você tava procurando um novo portal pra outros mundos virtuais, talvez essa belezinha seja a resposta. Só prepare o bolso, porque essa brincadeira não deve ser barata!</p>\n",
              "<p>Fonte: <a href=\"https://www.wired.com/review/razer-blade-18-2024/\">https://www.wired.com/review/razer-blade-18-2024/</a></p>\n",
              "<p>Relacionadas:</p>\n",
              "<p><a href=\"https://www.wired.com/review/razer-blade-18-2024/\">Razer Blade 18 (2024) Review: The Gaming Laptop of the Future</a></p>\n",
              "<h2>Gigafactory Alemã Vira Alvo de Protestos</h2>\n",
              "<p>A única gigafactory da Tesla na Europa, localizada na Alemanha, se tornou palco de protestos cada vez mais intensos após o anúncio de planos de expansão. A fábrica, crucial para os planos de dominação global da Tesla, está enfrentando resistência da comunidade local.</p>\n",
              "<p>Embora detalhes sobre as causas e a natureza dos protestos não estejam disponíveis, a escalada da situação sugere um conflito crescente entre os interesses da Tesla e as preocupações dos moradores.  A situação coloca em destaque o desafio de equilibrar a necessidade urgente de transição para energias renováveis com as preocupações legítimas das comunidades afetadas.</p>\n",
              "<p>Fonte: <a href=\"https://www.wired.com/story/climate-protestors-storm-teslas-europe-gigafactory/\">https://www.wired.com/story/climate-protestors-storm-teslas-europe-gigafactory/</a></p>\n",
              "<h2>Redes sociais: Amigo ou Inimigo da Geração Z?</h2>\n",
              "<p>O psicólogo Jonathan Haidt levanta um alerta importante: as redes sociais podem ser prejudiciais para crianças e adolescentes.  Apesar da dificuldade em encontrar evidências definitivas, a preocupação reside na forte influência que essas plataformas exercem sobre a saúde mental dos jovens.</p>\n",
              "<p>Enquanto a discussão sobre os impactos da tecnologia na juventude continua,  uma coisa é certa: a conectividade digital se tornou parte intrínseca da infância. O desafio reside em encontrar um equilíbrio entre aproveitar os benefícios da internet e garantir que as crianças naveguem nesse mundo digital de forma segura e saudável.</p>\n",
              "<p>Fonte: <a href=\"https://www.wired.com/story/plaintext-theres-no-undoing-techs-great-rewiring-of-childhood/\">https://www.wired.com/story/plaintext-theres-no-undoing-techs-great-rewiring-of-childhood/</a></p>\n",
              "<h2>Adeus Dongles: Adaptadores Multiportas Turbinam as Opções do Seu Laptop</h2>\n",
              "<p>Cansado da falta de portas no seu laptop? As fabricantes de periféricos ouviram suas preces!  Uma nova geração de adaptadores multiportas está chegando ao mercado, oferecendo uma solução elegante para a  \"donglemania\" que assola os usuários. Com um único dispositivo, você pode expandir as opções do seu laptop, adicionando portas HDMI, USB, Ethernet e até mesmo leitor de cartão SD.</p>\n",
              "<p>Esqueça a bagunça de múltiplos adaptadores e a frustração de portas limitadas. Esses hubs multiportas prometem  liberdade, flexibilidade e organização para a sua estação de trabalho, seja em casa ou no escritório.  Fique ligado para saber mais sobre os diferentes modelos e funcionalidades que essa nova onda de adaptadores promete trazer.</p>\n",
              "<p>Fonte: <a href=\"https://www.wired.com/gallery/best-usb-hubs/\">https://www.wired.com/gallery/best-usb-hubs/</a></p>\n",
              "<h2>Sucos para todas as horas!</h2>\n",
              "<p>Prepare-se para turbinar sua hidratação com a ajuda de alguns juicers poderosos! Se você busca refrescar seu dia com bebidas leves e saborosas ou prefere drinks vibrantes para animar a noite, temos o guia completo para te ajudar.</p>\n",
              "<p>Descubra os melhores modelos de juicer para extrair o máximo de sabor e nutrientes de frutas e vegetais, criando combinações incríveis para todos os momentos. Do clássico suco de laranja matinal a misturas exóticas para surpreender os amigos, prepare-se para elevar seus sucos a outro nível!</p>\n",
              "<p>Fonte: <a href=\"https://www.wired.com/gallery/best-juicers/\">https://www.wired.com/gallery/best-juicers/</a></p>\n",
              "<h2>Eureka Tenta Revolucionar a Limpeza Doméstica com Robô Híbrido, Mas Resultados São Mistos</h2>\n",
              "<p>A Eureka lançou um novo robô aspirador que promete simplificar a limpeza doméstica, combinando as funções de aspirar e passar pano em um único aparelho.  Enquanto os testes indicam uma performance satisfatória na aspiração, a função de esfregar deixa a desejar, apresentando resultados inconsistentes.</p>\n",
              "<p>Outro ponto fraco do novo robô reside na qualidade do mapeamento do ambiente. Usuários reportam dificuldades na criação de mapas precisos, o que pode comprometer a eficiência da limpeza. Apesar das falhas, a Eureka demonstra ambição em sua investida no mercado de robôs híbridos,  com potencial para aprimoramentos em futuras versões.</p>\n",
              "<p>Fonte: <a href=\"https://www.wired.com/review/eureka-e10/\">https://www.wired.com/review/eureka-e10/</a></p>\n",
              "<h2>A Santíssima Trindade do Streaming: Disney+, Hulu e Max Juntos!</h2>\n",
              "<p>Parece que a galera lá da Disney ouviu nossas preces (ou pelo menos viu a hashtag #DontStreamOnMax bombando)! Em um movimento surpreendente, anunciaram um pacotão que une Disney+, Hulu e Max. Ainda não sabemos os detalhes, tipo, preço e data de lançamento, mas já estamos sonhando com maratonas épicas que vão de Star Wars até Kardashians, passando por Friends e tudo mais que essas plataformas têm a oferecer.</p>\n",
              "<p>Será que essa união faz frente aos gigantes Netflix e Amazon Prime Video? Só o tempo dirá, mas já podemos dizer que a disputa pelo nosso tempo livre (e dinheiro) no sofá ficou ainda mais acirrada!</p>\n",
              "<p>Fonte: <a href=\"https://www.wired.com/story/disney-and-warner-bros-discovery-just-reinvented-cable/\">https://www.wired.com/story/disney-and-warner-bros-discovery-just-reinvented-cable/</a></p>\n"
            ]
          },
          "metadata": {}
        }
      ]
    }
  ]
}